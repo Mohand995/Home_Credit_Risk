{
 "cells": [
  {
   "cell_type": "markdown",
   "id": "858a5eb5",
   "metadata": {},
   "source": [
    "As we saw previous that the model after the long process of preprocessing and feature manipulation \n",
    "\n",
    "and modeling still not achieving the best performance in terms of auc for the massive imbalance \n",
    "\n",
    "in the dataset so here i will try another idea of changing the formulation of the business problem\n",
    "\n",
    "from classification problem to anomaly detection one where the non defaultor will be treated as usual\n",
    "\n",
    "datapoint and defaultors will be treated as anomalies."
   ]
  },
  {
   "cell_type": "code",
   "execution_count": 10,
   "id": "64707404",
   "metadata": {},
   "outputs": [],
   "source": [
    "import pandas as pd \n",
    "from sklearn.impute import SimpleImputer\n",
    "import numpy as np"
   ]
  },
  {
   "cell_type": "code",
   "execution_count": 3,
   "id": "23799df6",
   "metadata": {},
   "outputs": [],
   "source": [
    "data=pd.read_csv(\"../Data/Final_prepared_data.csv\")\n",
    "data.set_index(\"SK_ID_CURR\",inplace=True)"
   ]
  },
  {
   "cell_type": "code",
   "execution_count": 5,
   "id": "d9f2191c",
   "metadata": {},
   "outputs": [],
   "source": [
    "data=data.drop(\"TARGET\",axis=1)"
   ]
  },
  {
   "cell_type": "code",
   "execution_count": 8,
   "id": "121de4da",
   "metadata": {},
   "outputs": [],
   "source": [
    "data.CODE_GENDER.replace({\"XNA\":np.nan},inplace=True)\n",
    "data.NAME_FAMILY_STATUS.replace({\"Unknown\":np.nan},inplace=True)\n",
    "data.ORGANIZATION_TYPE.replace({\"XNA\":np.nan},inplace=True)"
   ]
  },
  {
   "cell_type": "code",
   "execution_count": 13,
   "id": "31549456",
   "metadata": {},
   "outputs": [],
   "source": [
    "Categorical_features=[f for f in data.columns  if data[f].dtype=='O']\n",
    "Numerical_features=[f for f in data.columns  if data[f].dtype!='O']"
   ]
  },
  {
   "cell_type": "code",
   "execution_count": 11,
   "id": "735ba82e",
   "metadata": {},
   "outputs": [],
   "source": [
    "cat_imputer = SimpleImputer( missing_values=np.nan,strategy='most_frequent')\n",
    "num_imputer = SimpleImputer( missing_values=np.nan,strategy='median')"
   ]
  },
  {
   "cell_type": "code",
   "execution_count": 15,
   "id": "6365bbd0",
   "metadata": {},
   "outputs": [],
   "source": [
    "data[Categorical_features]=cat_imputer.fit_transform(data[Categorical_features])"
   ]
  },
  {
   "cell_type": "code",
   "execution_count": 16,
   "id": "0b3195c8",
   "metadata": {},
   "outputs": [],
   "source": [
    "data[Numerical_features]=num_imputer.fit_transform(data[Numerical_features])"
   ]
  },
  {
   "cell_type": "code",
   "execution_count": null,
   "id": "03361f77",
   "metadata": {},
   "outputs": [],
   "source": []
  }
 ],
 "metadata": {
  "kernelspec": {
   "display_name": "Python 3 (ipykernel)",
   "language": "python",
   "name": "python3"
  },
  "language_info": {
   "codemirror_mode": {
    "name": "ipython",
    "version": 3
   },
   "file_extension": ".py",
   "mimetype": "text/x-python",
   "name": "python",
   "nbconvert_exporter": "python",
   "pygments_lexer": "ipython3",
   "version": "3.8.8"
  }
 },
 "nbformat": 4,
 "nbformat_minor": 5
}
