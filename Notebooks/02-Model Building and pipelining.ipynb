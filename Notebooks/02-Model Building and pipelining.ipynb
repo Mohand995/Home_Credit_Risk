{
 "cells": [
  {
   "cell_type": "code",
   "execution_count": 6,
   "id": "f2c0ac4a",
   "metadata": {},
   "outputs": [],
   "source": [
    "import pandas as pd \n",
    "from sklearn.ensemble import ExtraTreesClassifier\n",
    "import numpy as np\n",
    "import pickle\n",
    "import seaborn as sns\n",
    "from sklearn.compose import ColumnTransformer\n",
    "from sklearn.preprocessing import FunctionTransformer\n",
    "from sklearn.impute import SimpleImputer\n",
    "import lightgbm as lgb\n",
    "import matplotlib.pyplot as plt\n",
    "from scipy.stats import randint as sp_randint\n",
    "from sklearn.model_selection import  RandomizedSearchCV\n",
    "from sklearn.model_selection import StratifiedKFold, train_test_split, GridSearchCV\n",
    "from sklearn.metrics import  classification_report\n",
    "from sklearn.pipeline import Pipeline\n",
    "from sklearn.metrics import balanced_accuracy_score, roc_auc_score, make_scorer, confusion_matrix, plot_confusion_matrix\n",
    "import xgboost as xgb\n",
    "from sklearn.preprocessing import OneHotEncoder,OrdinalEncoder\n",
    "import ppscore as pps\n",
    "from lightgbm import LGBMClassifier\n",
    "from sklearn.ensemble import RandomForestClassifier\n",
    "import warnings\n",
    "warnings.filterwarnings(\"ignore\")"
   ]
  },
  {
   "cell_type": "code",
   "execution_count": 2,
   "id": "68e317cd",
   "metadata": {},
   "outputs": [],
   "source": [
    "Data=pd.read_csv(\"../Data/Final_prepared_data.csv\")"
   ]
  },
  {
   "cell_type": "code",
   "execution_count": 3,
   "id": "21b3c3e5",
   "metadata": {},
   "outputs": [],
   "source": [
    "Data=Data.set_index(\"SK_ID_CURR\")"
   ]
  },
  {
   "cell_type": "code",
   "execution_count": 4,
   "id": "6a8aca65",
   "metadata": {},
   "outputs": [],
   "source": [
    "Data.CODE_GENDER.replace({\"XNA\":np.nan},inplace=True)\n",
    "Data.NAME_FAMILY_STATUS.replace({\"Unknown\":np.nan},inplace=True)\n",
    "Data.ORGANIZATION_TYPE.replace({\"XNA\":np.nan},inplace=True)"
   ]
  },
  {
   "cell_type": "code",
   "execution_count": 9,
   "id": "cf7b34b5",
   "metadata": {},
   "outputs": [
    {
     "data": {
      "text/html": [
       "<div>\n",
       "<style scoped>\n",
       "    .dataframe tbody tr th:only-of-type {\n",
       "        vertical-align: middle;\n",
       "    }\n",
       "\n",
       "    .dataframe tbody tr th {\n",
       "        vertical-align: top;\n",
       "    }\n",
       "\n",
       "    .dataframe thead th {\n",
       "        text-align: right;\n",
       "    }\n",
       "</style>\n",
       "<table border=\"1\" class=\"dataframe\">\n",
       "  <thead>\n",
       "    <tr style=\"text-align: right;\">\n",
       "      <th></th>\n",
       "      <th>EXT_SRC_TOT</th>\n",
       "      <th>EXT_SOURCE_2</th>\n",
       "      <th>EXT_SOURCE_3</th>\n",
       "      <th>DAYS_BIRTH</th>\n",
       "      <th>DAYS_ID_PUBLISH</th>\n",
       "      <th>DAYS_REGISTRATION</th>\n",
       "      <th>DAYS_LAST_PHONE_CHANGE</th>\n",
       "      <th>HOUR_APPR_PROCESS_START</th>\n",
       "      <th>AMT_INCOME_TOTAL</th>\n",
       "      <th>AMT_ANNUITY</th>\n",
       "      <th>...</th>\n",
       "      <th>ORGANIZATION_TYPE</th>\n",
       "      <th>FLAG_OWN_REALTY</th>\n",
       "      <th>FLAG_WORK_PHONE</th>\n",
       "      <th>NAME_FAMILY_STATUS</th>\n",
       "      <th>NAME_TYPE_SUITE</th>\n",
       "      <th>DEF_60_CNT_SOCIAL_CIRCLE</th>\n",
       "      <th>REGION_RATING_CLIENT_W_CITY</th>\n",
       "      <th>REG_CITY_NOT_WORK_CITY</th>\n",
       "      <th>CODE_GENDER</th>\n",
       "      <th>TARGET</th>\n",
       "    </tr>\n",
       "    <tr>\n",
       "      <th>SK_ID_CURR</th>\n",
       "      <th></th>\n",
       "      <th></th>\n",
       "      <th></th>\n",
       "      <th></th>\n",
       "      <th></th>\n",
       "      <th></th>\n",
       "      <th></th>\n",
       "      <th></th>\n",
       "      <th></th>\n",
       "      <th></th>\n",
       "      <th></th>\n",
       "      <th></th>\n",
       "      <th></th>\n",
       "      <th></th>\n",
       "      <th></th>\n",
       "      <th></th>\n",
       "      <th></th>\n",
       "      <th></th>\n",
       "      <th></th>\n",
       "      <th></th>\n",
       "      <th></th>\n",
       "    </tr>\n",
       "  </thead>\n",
       "  <tbody>\n",
       "    <tr>\n",
       "      <th>100002</th>\n",
       "      <td>0.402324</td>\n",
       "      <td>0.262949</td>\n",
       "      <td>0.139376</td>\n",
       "      <td>-9461</td>\n",
       "      <td>-2120</td>\n",
       "      <td>-3648.0</td>\n",
       "      <td>-1134.0</td>\n",
       "      <td>10</td>\n",
       "      <td>202500.0</td>\n",
       "      <td>24700.5</td>\n",
       "      <td>...</td>\n",
       "      <td>Business Entity Type 3</td>\n",
       "      <td>Y</td>\n",
       "      <td>0</td>\n",
       "      <td>Single / not married</td>\n",
       "      <td>Unaccompanied</td>\n",
       "      <td>2.0</td>\n",
       "      <td>2</td>\n",
       "      <td>0</td>\n",
       "      <td>M</td>\n",
       "      <td>1</td>\n",
       "    </tr>\n",
       "    <tr>\n",
       "      <th>100003</th>\n",
       "      <td>NaN</td>\n",
       "      <td>0.622246</td>\n",
       "      <td>NaN</td>\n",
       "      <td>-16765</td>\n",
       "      <td>-291</td>\n",
       "      <td>-1186.0</td>\n",
       "      <td>-828.0</td>\n",
       "      <td>11</td>\n",
       "      <td>270000.0</td>\n",
       "      <td>35698.5</td>\n",
       "      <td>...</td>\n",
       "      <td>School</td>\n",
       "      <td>N</td>\n",
       "      <td>0</td>\n",
       "      <td>Married</td>\n",
       "      <td>Family</td>\n",
       "      <td>0.0</td>\n",
       "      <td>1</td>\n",
       "      <td>0</td>\n",
       "      <td>F</td>\n",
       "      <td>0</td>\n",
       "    </tr>\n",
       "    <tr>\n",
       "      <th>100004</th>\n",
       "      <td>1.285479</td>\n",
       "      <td>0.555912</td>\n",
       "      <td>0.729567</td>\n",
       "      <td>-19046</td>\n",
       "      <td>-2531</td>\n",
       "      <td>-4260.0</td>\n",
       "      <td>-815.0</td>\n",
       "      <td>9</td>\n",
       "      <td>67500.0</td>\n",
       "      <td>6750.0</td>\n",
       "      <td>...</td>\n",
       "      <td>Government</td>\n",
       "      <td>Y</td>\n",
       "      <td>1</td>\n",
       "      <td>Single / not married</td>\n",
       "      <td>Unaccompanied</td>\n",
       "      <td>0.0</td>\n",
       "      <td>2</td>\n",
       "      <td>0</td>\n",
       "      <td>M</td>\n",
       "      <td>0</td>\n",
       "    </tr>\n",
       "    <tr>\n",
       "      <th>100006</th>\n",
       "      <td>NaN</td>\n",
       "      <td>0.650442</td>\n",
       "      <td>NaN</td>\n",
       "      <td>-19005</td>\n",
       "      <td>-2437</td>\n",
       "      <td>-9833.0</td>\n",
       "      <td>-617.0</td>\n",
       "      <td>17</td>\n",
       "      <td>135000.0</td>\n",
       "      <td>29686.5</td>\n",
       "      <td>...</td>\n",
       "      <td>Business Entity Type 3</td>\n",
       "      <td>Y</td>\n",
       "      <td>0</td>\n",
       "      <td>Civil marriage</td>\n",
       "      <td>Unaccompanied</td>\n",
       "      <td>0.0</td>\n",
       "      <td>2</td>\n",
       "      <td>0</td>\n",
       "      <td>F</td>\n",
       "      <td>0</td>\n",
       "    </tr>\n",
       "    <tr>\n",
       "      <th>100007</th>\n",
       "      <td>NaN</td>\n",
       "      <td>0.322738</td>\n",
       "      <td>NaN</td>\n",
       "      <td>-19932</td>\n",
       "      <td>-3458</td>\n",
       "      <td>-4311.0</td>\n",
       "      <td>-1106.0</td>\n",
       "      <td>11</td>\n",
       "      <td>121500.0</td>\n",
       "      <td>21865.5</td>\n",
       "      <td>...</td>\n",
       "      <td>Religion</td>\n",
       "      <td>Y</td>\n",
       "      <td>0</td>\n",
       "      <td>Single / not married</td>\n",
       "      <td>Unaccompanied</td>\n",
       "      <td>0.0</td>\n",
       "      <td>2</td>\n",
       "      <td>1</td>\n",
       "      <td>M</td>\n",
       "      <td>0</td>\n",
       "    </tr>\n",
       "  </tbody>\n",
       "</table>\n",
       "<p>5 rows × 31 columns</p>\n",
       "</div>"
      ],
      "text/plain": [
       "            EXT_SRC_TOT  EXT_SOURCE_2  EXT_SOURCE_3  DAYS_BIRTH  \\\n",
       "SK_ID_CURR                                                        \n",
       "100002         0.402324      0.262949      0.139376       -9461   \n",
       "100003              NaN      0.622246           NaN      -16765   \n",
       "100004         1.285479      0.555912      0.729567      -19046   \n",
       "100006              NaN      0.650442           NaN      -19005   \n",
       "100007              NaN      0.322738           NaN      -19932   \n",
       "\n",
       "            DAYS_ID_PUBLISH  DAYS_REGISTRATION  DAYS_LAST_PHONE_CHANGE  \\\n",
       "SK_ID_CURR                                                               \n",
       "100002                -2120            -3648.0                 -1134.0   \n",
       "100003                 -291            -1186.0                  -828.0   \n",
       "100004                -2531            -4260.0                  -815.0   \n",
       "100006                -2437            -9833.0                  -617.0   \n",
       "100007                -3458            -4311.0                 -1106.0   \n",
       "\n",
       "            HOUR_APPR_PROCESS_START  AMT_INCOME_TOTAL  AMT_ANNUITY  ...  \\\n",
       "SK_ID_CURR                                                          ...   \n",
       "100002                           10          202500.0      24700.5  ...   \n",
       "100003                           11          270000.0      35698.5  ...   \n",
       "100004                            9           67500.0       6750.0  ...   \n",
       "100006                           17          135000.0      29686.5  ...   \n",
       "100007                           11          121500.0      21865.5  ...   \n",
       "\n",
       "                 ORGANIZATION_TYPE  FLAG_OWN_REALTY  FLAG_WORK_PHONE  \\\n",
       "SK_ID_CURR                                                             \n",
       "100002      Business Entity Type 3                Y                0   \n",
       "100003                      School                N                0   \n",
       "100004                  Government                Y                1   \n",
       "100006      Business Entity Type 3                Y                0   \n",
       "100007                    Religion                Y                0   \n",
       "\n",
       "              NAME_FAMILY_STATUS  NAME_TYPE_SUITE  DEF_60_CNT_SOCIAL_CIRCLE  \\\n",
       "SK_ID_CURR                                                                    \n",
       "100002      Single / not married    Unaccompanied                       2.0   \n",
       "100003                   Married           Family                       0.0   \n",
       "100004      Single / not married    Unaccompanied                       0.0   \n",
       "100006            Civil marriage    Unaccompanied                       0.0   \n",
       "100007      Single / not married    Unaccompanied                       0.0   \n",
       "\n",
       "            REGION_RATING_CLIENT_W_CITY  REG_CITY_NOT_WORK_CITY  CODE_GENDER  \\\n",
       "SK_ID_CURR                                                                     \n",
       "100002                                2                       0            M   \n",
       "100003                                1                       0            F   \n",
       "100004                                2                       0            M   \n",
       "100006                                2                       0            F   \n",
       "100007                                2                       1            M   \n",
       "\n",
       "           TARGET  \n",
       "SK_ID_CURR         \n",
       "100002          1  \n",
       "100003          0  \n",
       "100004          0  \n",
       "100006          0  \n",
       "100007          0  \n",
       "\n",
       "[5 rows x 31 columns]"
      ]
     },
     "execution_count": 9,
     "metadata": {},
     "output_type": "execute_result"
    }
   ],
   "source": [
    "Data.head(5)"
   ]
  },
  {
   "cell_type": "code",
   "execution_count": 10,
   "id": "e5dac62b",
   "metadata": {},
   "outputs": [
    {
     "data": {
      "text/plain": [
       "(307511, 31)"
      ]
     },
     "execution_count": 10,
     "metadata": {},
     "output_type": "execute_result"
    }
   ],
   "source": [
    "Data.shape"
   ]
  },
  {
   "cell_type": "code",
   "execution_count": 37,
   "id": "582d061b",
   "metadata": {},
   "outputs": [
    {
     "data": {
      "text/plain": [
       "float"
      ]
     },
     "execution_count": 37,
     "metadata": {},
     "output_type": "execute_result"
    }
   ],
   "source": [
    "type(np.NaN)"
   ]
  },
  {
   "cell_type": "markdown",
   "id": "08d2033b",
   "metadata": {},
   "source": [
    "# 1-Split_Data"
   ]
  },
  {
   "cell_type": "code",
   "execution_count": 11,
   "id": "db2e8dda",
   "metadata": {},
   "outputs": [],
   "source": [
    "y=Data.loc[:,'TARGET']\n",
    "X=Data.drop('TARGET',axis=1)"
   ]
  },
  {
   "cell_type": "code",
   "execution_count": 12,
   "id": "6e73025e",
   "metadata": {},
   "outputs": [],
   "source": [
    "X_train, X_valid, y_train, y_valid = train_test_split(X, y, test_size=0.2, random_state=42, stratify=y)"
   ]
  },
  {
   "cell_type": "markdown",
   "id": "9bf2601e",
   "metadata": {},
   "source": [
    "# 2-Imputation"
   ]
  },
  {
   "cell_type": "code",
   "execution_count": 13,
   "id": "2200acdc",
   "metadata": {},
   "outputs": [],
   "source": [
    "Categorical_features=[f for f in X_train.columns  if X_train[f].dtype=='O']\n",
    "Numerical_features=[f for f in X_train.columns  if X_train[f].dtype!='O' and f!='TARGET']"
   ]
  },
  {
   "cell_type": "code",
   "execution_count": 14,
   "id": "6459d78e",
   "metadata": {},
   "outputs": [],
   "source": [
    "cat_imputer = SimpleImputer( missing_values=np.nan,strategy='most_frequent').fit(X_train[Categorical_features])\n",
    "num_imputer = SimpleImputer( missing_values=np.nan,strategy='median').fit(X_train[Numerical_features])"
   ]
  },
  {
   "cell_type": "code",
   "execution_count": 11,
   "id": "1cdaf274",
   "metadata": {},
   "outputs": [],
   "source": [
    "def impute_features(cat_imputer,num_imputer,train=True):\n",
    "    if train:\n",
    "            X_train[Categorical_features]=cat_imputer.transform(X_train[Categorical_features])\n",
    "            X_train[Numerical_features]=num_imputer.transform(X_train[Numerical_features])\n",
    "    else: \n",
    "            X_valid[Categorical_features]=cat_imputer.transform(X_valid[Categorical_features])\n",
    "            X_valid[Numerical_features]=num_imputer.transform(X_valid[Numerical_features])"
   ]
  },
  {
   "cell_type": "code",
   "execution_count": 12,
   "id": "888a081d",
   "metadata": {},
   "outputs": [],
   "source": [
    "impute_features(cat_imputer,num_imputer)\n",
    "impute_features(cat_imputer,num_imputer,False)"
   ]
  },
  {
   "cell_type": "markdown",
   "id": "e39456eb",
   "metadata": {},
   "source": [
    "# 3-Ordinal_Encoding"
   ]
  },
  {
   "cell_type": "markdown",
   "id": "78dcb452",
   "metadata": {},
   "source": [
    "We decided to go with ordinal encoding rather than ohe to reduce sparesity of data as it hurts\n",
    "\n",
    "the performance in case of tree based model used  \n",
    "\n",
    "check this: https://stackoverflow.com/questions/65722374/one-hot-encoding-in-random-forest-classifier"
   ]
  },
  {
   "cell_type": "code",
   "execution_count": 15,
   "id": "7ee12396",
   "metadata": {},
   "outputs": [],
   "source": [
    "OEnc=OrdinalEncoder(handle_unknown='skip')"
   ]
  },
  {
   "cell_type": "code",
   "execution_count": 14,
   "id": "94c53310",
   "metadata": {},
   "outputs": [],
   "source": [
    "X_train[Categorical_features]=OEnc.fit_transform(X_train[Categorical_features])\n",
    "X_valid[Categorical_features]=OEnc.transform(X_valid[Categorical_features])"
   ]
  },
  {
   "cell_type": "markdown",
   "id": "fecaf350",
   "metadata": {},
   "source": [
    "# 4-Model"
   ]
  },
  {
   "cell_type": "markdown",
   "id": "9dfde2d4",
   "metadata": {},
   "source": [
    "We will go with lightGBM as it is :\n",
    "\n",
    "1-Ensemble algorithm tree based\n",
    "\n",
    "2-Can adjust weights during training to handel class imbalance"
   ]
  },
  {
   "cell_type": "code",
   "execution_count": 15,
   "id": "fc1801ca",
   "metadata": {},
   "outputs": [],
   "source": [
    "clf = lgb.LGBMClassifier(max_depth=10,min_data_in_leaf=45,learning_rate= 0.01,n_estimators= 500,is_unbalance = True)"
   ]
  },
  {
   "cell_type": "code",
   "execution_count": 30,
   "id": "349ab575",
   "metadata": {},
   "outputs": [
    {
     "name": "stdout",
     "output_type": "stream",
     "text": [
      "[LightGBM] [Warning] min_data_in_leaf is set=45, min_child_samples=20 will be ignored. Current value: min_data_in_leaf=45\n"
     ]
    },
    {
     "data": {
      "text/plain": [
       "LGBMClassifier(is_unbalance=True, learning_rate=0.01, max_depth=10,\n",
       "               min_data_in_leaf=45, n_estimators=500)"
      ]
     },
     "execution_count": 30,
     "metadata": {},
     "output_type": "execute_result"
    }
   ],
   "source": [
    "clf.fit(X_train,y_train)"
   ]
  },
  {
   "cell_type": "code",
   "execution_count": 31,
   "id": "6d49f930",
   "metadata": {},
   "outputs": [
    {
     "name": "stdout",
     "output_type": "stream",
     "text": [
      "AUC:  0.7542875084023197\n"
     ]
    }
   ],
   "source": [
    "\n",
    "prob_preds=clf.predict_proba(X_valid)\n",
    "print('AUC: ', roc_auc_score(y_valid, prob_preds[:,1]))"
   ]
  },
  {
   "cell_type": "markdown",
   "id": "eeb98a63",
   "metadata": {},
   "source": [
    "# 5-Hyperparameters tuning"
   ]
  },
  {
   "cell_type": "markdown",
   "id": "ef3fe334",
   "metadata": {},
   "source": [
    "Handeling class imbalance by scale_pos_weight instead of is_unbalanced :\n",
    "\n",
    "https://www.kaggle.com/code/mlisovyi/modular-good-fun-with-ligthgbm/comments"
   ]
  },
  {
   "cell_type": "code",
   "execution_count": 28,
   "id": "880ad42f",
   "metadata": {},
   "outputs": [
    {
     "data": {
      "text/plain": [
       "RandomizedSearchCV(cv=3, estimator=LGBMClassifier(),\n",
       "                   param_distributions={'max_depth': [5, 20],\n",
       "                                        'n_estimators': [100, 200, 300, 400,\n",
       "                                                         500, 600, 700, 800,\n",
       "                                                         900, 1000],\n",
       "                                        'num_leaves': [5, 16, 27, 38, 50],\n",
       "                                        'scale_pos_weight': [1, 2, 3, 4, 5, 6,\n",
       "                                                             7, 8, 9, 10, 11]},\n",
       "                   return_train_score=True, scoring='roc_auc')"
      ]
     },
     "execution_count": 28,
     "metadata": {},
     "output_type": "execute_result"
    }
   ],
   "source": [
    "n_estimators = [int(x) for x in np.linspace(start = 100, stop = 1000, num = 10)]\n",
    "\n",
    "num_leaves=[int(x) for x in np.linspace(start = 5 ,stop = 50, num = 5)]\n",
    "\n",
    "max_depth = [int(x) for x in np.linspace(5, 20, num = 2)]\n",
    "\n",
    "scale_pos_weight=[int(x) for x in np.linspace(start = 1, stop = 11, num = 11)]\n",
    "\n",
    "random_grid = {'n_estimators': n_estimators,\n",
    "               'num_leaves': num_leaves,\n",
    "               'max_depth': max_depth,\n",
    "               'scale_pos_weight': scale_pos_weight}\n",
    "\n",
    "\n",
    "lgbm_random = RandomizedSearchCV(estimator=LGBMClassifier(n_jobs=-1), param_distributions=random_grid, cv = 3, n_iter=10,return_train_score=True,scoring='roc_auc')\n",
    "\n",
    "lgbm_random.fit(X_train, y_train)"
   ]
  },
  {
   "cell_type": "code",
   "execution_count": 17,
   "id": "80c9c93e",
   "metadata": {},
   "outputs": [],
   "source": [
    "best_lgbm=LGBMClassifier(max_depth=5, n_estimators=1000, num_leaves=5,\n",
    "                                scale_pos_weight=5,random_state=22)"
   ]
  },
  {
   "cell_type": "markdown",
   "id": "152c8595",
   "metadata": {},
   "source": [
    "# Full_Pipeline"
   ]
  },
  {
   "cell_type": "code",
   "execution_count": 18,
   "id": "fe2e4bce",
   "metadata": {},
   "outputs": [],
   "source": [
    "categorical_transformer = Pipeline(\n",
    "    steps=[\n",
    "        ('catimputer', cat_imputer),\n",
    "        ('ordinal', OEnc)])\n",
    "\n",
    "\n",
    "numeric_transformer = num_imputer"
   ]
  },
  {
   "cell_type": "code",
   "execution_count": 19,
   "id": "5f459e39",
   "metadata": {},
   "outputs": [],
   "source": [
    "preprocessor = ColumnTransformer(\n",
    "    transformers=[\n",
    "        ('numeric_transformers', numeric_transformer, Numerical_features),\n",
    "        ('categorical_transformers', categorical_transformer, Categorical_features),\n",
    "    ])"
   ]
  },
  {
   "cell_type": "code",
   "execution_count": 20,
   "id": "05e54798",
   "metadata": {},
   "outputs": [
    {
     "data": {
      "text/plain": [
       "Pipeline(steps=[('preprocessor',\n",
       "                 ColumnTransformer(transformers=[('numeric_transformers',\n",
       "                                                  SimpleImputer(strategy='median'),\n",
       "                                                  ['EXT_SRC_TOT',\n",
       "                                                   'EXT_SOURCE_2',\n",
       "                                                   'EXT_SOURCE_3', 'DAYS_BIRTH',\n",
       "                                                   'DAYS_ID_PUBLISH',\n",
       "                                                   'DAYS_REGISTRATION',\n",
       "                                                   'DAYS_LAST_PHONE_CHANGE',\n",
       "                                                   'HOUR_APPR_PROCESS_START',\n",
       "                                                   'AMT_INCOME_TOTAL',\n",
       "                                                   'AMT_ANNUITY',\n",
       "                                                   'REGION_POPULATION_RELATIVE',\n",
       "                                                   'NEW_CREDIT_TO_ANNUI...\n",
       "                                                  Pipeline(steps=[('catimputer',\n",
       "                                                                   SimpleImputer(strategy='most_frequent')),\n",
       "                                                                  ('ordinal',\n",
       "                                                                   OrdinalEncoder(handle_unknown='skip'))]),\n",
       "                                                  ['WEEKDAY_APPR_PROCESS_START',\n",
       "                                                   'ORGANIZATION_TYPE',\n",
       "                                                   'FLAG_OWN_REALTY',\n",
       "                                                   'NAME_FAMILY_STATUS',\n",
       "                                                   'NAME_TYPE_SUITE',\n",
       "                                                   'CODE_GENDER'])])),\n",
       "                ('model',\n",
       "                 LGBMClassifier(max_depth=5, n_estimators=1000, num_leaves=5,\n",
       "                                random_state=22, scale_pos_weight=5))])"
      ]
     },
     "execution_count": 20,
     "metadata": {},
     "output_type": "execute_result"
    }
   ],
   "source": [
    "pipeline = Pipeline(steps=[('preprocessor', preprocessor),\n",
    "                           ('model', best_lgbm)])\n",
    "pipeline.fit(X_train, y_train)\n"
   ]
  },
  {
   "cell_type": "code",
   "execution_count": 21,
   "id": "2364530e",
   "metadata": {},
   "outputs": [
    {
     "name": "stdout",
     "output_type": "stream",
     "text": [
      "AUC:  0.7615475864391146\n"
     ]
    }
   ],
   "source": [
    "predictions = pipeline.predict_proba(X_valid)\n",
    "print('AUC: ', roc_auc_score(y_valid, predictions[:,1]))"
   ]
  },
  {
   "cell_type": "markdown",
   "id": "f66c3a3c",
   "metadata": {},
   "source": [
    "# Function for inference"
   ]
  },
  {
   "cell_type": "code",
   "execution_count": 24,
   "id": "832bf1d9",
   "metadata": {},
   "outputs": [],
   "source": [
    "def predict_datapoint(model_pipeline,test_point):\n",
    "    features_names=['EXT_SRC_TOT','EXT_SOURCE_2','EXT_SOURCE_3','DAYS_BIRTH','DAYS_ID_PUBLISH','DAYS_REGISTRATION','DAYS_LAST_PHONE_CHANGE','HOUR_APPR_PROCESS_START','AMT_INCOME_TOTAL','AMT_ANNUITY','REGION_POPULATION_RELATIVE','NEW_CREDIT_TO_ANNUITY_RATIO','NEW_CREDIT_TO_GOODS_RATIO','AMT_REQ_CREDIT_BUREAU_YEAR','OBS_30_CNT_SOCIAL_CIRCLE','CNT_CHILDREN','AMT_REQ_CREDIT_BUREAU_QRT','FLAG_PHONE','AMT_REQ_CREDIT_BUREAU_MON','WEEKDAY_APPR_PROCESS_START','DEF_30_CNT_SOCIAL_CIRCLE','ORGANIZATION_TYPE','FLAG_OWN_REALTY','FLAG_WORK_PHONE','NAME_FAMILY_STATUS','NAME_TYPE_SUITE','DEF_60_CNT_SOCIAL_CIRCLE','REGION_RATING_CLIENT_W_CITY','REG_CITY_NOT_WORK_CITY','CODE_GENDER']\n",
    "    x=pd.DataFrame(np.expand_dims(test_point,0),columns=features_names)\n",
    "    Non_defaultor_prob,defaultor_prob=model_pipeline.predict_proba(x)[0]\n",
    "    print(\"Non defaultor probability is {}%\".format(Non_defaultor_prob*100))\n",
    "    print(\"=======================================================\")\n",
    "    print('Defaultor probability is {}%'.format(defaultor_prob*100))\n",
    "    \n",
    "    \n",
    "    "
   ]
  },
  {
   "cell_type": "code",
   "execution_count": 29,
   "id": "6e8384f0",
   "metadata": {},
   "outputs": [
    {
     "name": "stdout",
     "output_type": "stream",
     "text": [
      "Non defaultor probability is 90.01099004011411%\n",
      "=======================================================\n",
      "Defaultor probability is 9.989009959885891%\n"
     ]
    }
   ],
   "source": [
    "rand_idx=np.random.choice(100,1)\n",
    "rand_point=X_valid.iloc[rand_idx,:]\n",
    "predict_datapoint(pipeline,rand_point)"
   ]
  },
  {
   "cell_type": "markdown",
   "id": "cd719d92",
   "metadata": {},
   "source": [
    "Save Pipeline"
   ]
  },
  {
   "cell_type": "code",
   "execution_count": 31,
   "id": "522d1ebf",
   "metadata": {},
   "outputs": [],
   "source": [
    "pickle.dump(pipeline,open(\"lgbm_pipeline.pkl\",'wb'))"
   ]
  },
  {
   "cell_type": "code",
   "execution_count": null,
   "id": "4c21b8e2",
   "metadata": {},
   "outputs": [],
   "source": []
  }
 ],
 "metadata": {
  "kernelspec": {
   "display_name": "Python 3 (ipykernel)",
   "language": "python",
   "name": "python3"
  },
  "language_info": {
   "codemirror_mode": {
    "name": "ipython",
    "version": 3
   },
   "file_extension": ".py",
   "mimetype": "text/x-python",
   "name": "python",
   "nbconvert_exporter": "python",
   "pygments_lexer": "ipython3",
   "version": "3.8.8"
  }
 },
 "nbformat": 4,
 "nbformat_minor": 5
}
